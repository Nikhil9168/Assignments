{
 "cells": [
  {
   "cell_type": "markdown",
   "metadata": {},
   "source": [
    "# Assignment 2:- Day2"
   ]
  },
  {
   "cell_type": "raw",
   "metadata": {},
   "source": [
    "Question 1:\n",
    "Create an empty list. Accept 10 numbers from the user and append to it the list if it is an even number."
   ]
  },
  {
   "cell_type": "code",
   "execution_count": 3,
   "metadata": {},
   "outputs": [
    {
     "name": "stdout",
     "output_type": "stream",
     "text": [
      "Enter number of elements:10\n",
      "Enter element:2\n",
      "Enter element:3\n",
      "Enter element:12\n",
      "Enter element:10\n",
      "Enter element:11\n",
      "Enter element:13\n",
      "Enter element:14\n",
      "Enter element:44\n",
      "Enter element:22\n",
      "Enter element:31\n",
      "The even list [2, 12, 10, 14, 44, 22]\n"
     ]
    }
   ],
   "source": [
    "#program for even number list\n",
    "List=[]      # create list\n",
    "\n",
    "n=int(input(\"Enter number of elements:\"))\n",
    "for i in range(1,n+1):\n",
    "    Element=int(input(\"Enter element:\"))\n",
    "    List.append(Element)\n",
    "Even_List=[]\n",
    "for j in List:\n",
    "    if(j%2==0):\n",
    "        Even_List.append(j)\n",
    "    \n",
    "print(\"The even list\",Even_List)"
   ]
  },
  {
   "cell_type": "raw",
   "metadata": {},
   "source": [
    "Question 2:\n",
    "Create a notebook on LIST COMPREHENSION. This exercise is to put you in a Self learning mode"
   ]
  },
  {
   "cell_type": "code",
   "execution_count": 8,
   "metadata": {},
   "outputs": [
    {
     "name": "stdout",
     "output_type": "stream",
     "text": [
      "Enter the sentencemy dream is to become a cricketer\n",
      "LC result      : my drm s t bcm  crcktr\n"
     ]
    }
   ],
   "source": [
    "#Take a string as input and return a string with vowels removed.\n",
    "\n",
    "def lc(sentence):\n",
    "    vowels = 'aeiou'\n",
    "    return ''.join([ l for l in sentence if l not in vowels])\n",
    "\n",
    "sentence=str(input(\"Enter the sentence\"))\n",
    "\n",
    "print (\"LC result      : \" + lc(sentence))"
   ]
  },
  {
   "cell_type": "raw",
   "metadata": {},
   "source": [
    "Question 3:- \n",
    "write a program that generates a dictionary d which contains (i, i*i), where i is from 1 to n (both included).\n",
    "Then you have to just print this dictionary d."
   ]
  },
  {
   "cell_type": "code",
   "execution_count": 12,
   "metadata": {},
   "outputs": [
    {
     "name": "stdout",
     "output_type": "stream",
     "text": [
      "Enter a number 4\n",
      "{1: 1, 2: 4, 3: 9, 4: 16}\n"
     ]
    }
   ],
   "source": [
    "#program for dictionary\n",
    "n=int(input(\"Enter a number \"))\n",
    "d = dict()\n",
    "\n",
    "for i in range(1,n+1):\n",
    "    d[i]=i*i\n",
    "\n",
    "print(d) \n"
   ]
  },
  {
   "cell_type": "raw",
   "metadata": {},
   "source": [
    "There is a robot which wants to go the charging point to charge itself.\n",
    "The robot moves in a 2-D plane from the original point (0,0). The robot can\n",
    "move toward UP, DOWN, LEFT and RIGHT with given steps.\n",
    "The trace of robot movement is shown as the following:\n",
    "UP 5\n",
    "DOWN 3\n",
    "LEFT 3\n",
    "RIGHT 2\n",
    "Then, the output of the program should be:\n",
    "2\n",
    "The numbers after the direction are steps.\n",
    "Write a program to compute the distance between the current position after\n",
    "a sequence of movement and original point. If the distance is a float, then\n",
    "just print the nearest integer (use round() function for that and then convert\n",
    "it into an integer).\n",
    "Input Format:\n",
    "The first line of the input contains a number n which implies the number of\n",
    "directions to be given.\n",
    "The next n lines contain the direction and the step separated by a space.\n",
    "Output Format:\n",
    "Print the distance from the original position to the current position.\n"
   ]
  },
  {
   "cell_type": "code",
   "execution_count": 32,
   "metadata": {},
   "outputs": [
    {
     "name": "stdout",
     "output_type": "stream",
     "text": [
      "UP 5\n",
      "DOWN 3\n",
      "LEFT 3\n",
      "RIGHT 2\n",
      "distance from zero position: 2\n"
     ]
    }
   ],
   "source": [
    "#program for the robot moves.\n",
    "position=0\n",
    "moves={\"UP\":1j,\n",
    "       \"DOWN\":-1j,\n",
    "       \"LEFT\":-1,\n",
    "       \"RIGHT\":1}\n",
    "#Set inputs\n",
    "data=[\"UP 5\",\n",
    "    \"DOWN 3\",\n",
    "    \"LEFT 3\",\n",
    "    \"RIGHT 2\"]\n",
    "\n",
    "#Move robot on valid moves\n",
    "for inp in data:\n",
    "    parts=inp.split()    \n",
    "    mv=parts[0]\n",
    "    val=parts[1]\n",
    "    print (mv, val)\n",
    "    position += moves[mv]*int(val)\n",
    "\n",
    "#get distance     \n",
    "print('distance from zero position:', round(abs(position)))\n"
   ]
  },
  {
   "cell_type": "code",
   "execution_count": null,
   "metadata": {},
   "outputs": [],
   "source": []
  }
 ],
 "metadata": {
  "kernelspec": {
   "display_name": "Python 3",
   "language": "python",
   "name": "python3"
  },
  "language_info": {
   "codemirror_mode": {
    "name": "ipython",
    "version": 3
   },
   "file_extension": ".py",
   "mimetype": "text/x-python",
   "name": "python",
   "nbconvert_exporter": "python",
   "pygments_lexer": "ipython3",
   "version": "3.7.4"
  }
 },
 "nbformat": 4,
 "nbformat_minor": 2
}
