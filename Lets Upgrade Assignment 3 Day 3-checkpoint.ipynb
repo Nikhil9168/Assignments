{
 "cells": [
  {
   "cell_type": "markdown",
   "metadata": {},
   "source": [
    "# Assigments 3:- Day 3"
   ]
  },
  {
   "cell_type": "raw",
   "metadata": {},
   "source": [
    "Questions 1:\n",
    "Create a numpy array starting from 2 till 50 with a stepsize of 3."
   ]
  },
  {
   "cell_type": "code",
   "execution_count": 2,
   "metadata": {},
   "outputs": [
    {
     "data": {
      "text/plain": [
       "array([ 2,  5,  8, 11, 14, 17, 20, 23, 26, 29, 32, 35, 38, 41, 44, 47])"
      ]
     },
     "execution_count": 2,
     "metadata": {},
     "output_type": "execute_result"
    }
   ],
   "source": [
    "import numpy as np\n",
    "np.arange(2,50,3)"
   ]
  },
  {
   "cell_type": "raw",
   "metadata": {},
   "source": [
    "Questions 2:\n",
    "Accept two lists of 5 elements each from the user.\n",
    "Convert them to numpy arrays. Concatenate these arrays and print it. Also sort these arrays and print it."
   ]
  },
  {
   "cell_type": "code",
   "execution_count": 26,
   "metadata": {},
   "outputs": [
    {
     "name": "stdout",
     "output_type": "stream",
     "text": [
      "Enter the no. of element: 3\n",
      "\n",
      "Enter the element of first list:78 45 6\n",
      "\n",
      "Enter the element of second list:45 12 14\n"
     ]
    }
   ],
   "source": [
    "# number of elements \n",
    "n=int(input(\"Enter the no. of element: \"))\n",
    "\n",
    "# read the elements from the user\n",
    "list1=list(map(int,input(\"\\nEnter the element of first list:\").strip().split()))\n",
    "list2=list(map(int,input(\"\\nEnter the element of second list:\").strip().split()))\n",
    "a=np.asarray(list1)\n",
    "b=np.asarray(list2)\n",
    "\n",
    "lst=np.concatenate((a,b))\n",
    "lst1=np.sort(lst)"
   ]
  },
  {
   "cell_type": "code",
   "execution_count": 27,
   "metadata": {},
   "outputs": [
    {
     "data": {
      "text/plain": [
       "array([ 6, 12, 14, 45, 45, 78])"
      ]
     },
     "execution_count": 27,
     "metadata": {},
     "output_type": "execute_result"
    }
   ],
   "source": [
    "lst1"
   ]
  },
  {
   "cell_type": "raw",
   "metadata": {},
   "source": [
    "Questions 3:\n",
    "Write a code snippet to find the dimensions of a ndarray and its size."
   ]
  },
  {
   "cell_type": "code",
   "execution_count": 31,
   "metadata": {},
   "outputs": [
    {
     "name": "stdout",
     "output_type": "stream",
     "text": [
      "[0 1 2] \n",
      "\n",
      "[[ 0  1  2  3]\n",
      " [ 4  5  6  7]\n",
      " [ 8  9 10 11]] \n",
      "\n",
      "[[[ 0  1  2  3]\n",
      "  [ 4  5  6  7]\n",
      "  [ 8  9 10 11]]\n",
      "\n",
      " [[12 13 14 15]\n",
      "  [16 17 18 19]\n",
      "  [20 21 22 23]]] \n",
      "\n"
     ]
    }
   ],
   "source": [
    "# create the array of different size\n",
    "\n",
    "a_1d = np.arange(3)\n",
    "print(a_1d,\"\\n\")\n",
    "\n",
    "a_2d = np.arange(12).reshape((3, 4))\n",
    "print(a_2d,\"\\n\")\n",
    "\n",
    "a_3d = np.arange(24).reshape((2, 3, 4))\n",
    "print(a_3d,\"\\n\")"
   ]
  },
  {
   "cell_type": "code",
   "execution_count": 33,
   "metadata": {},
   "outputs": [
    {
     "name": "stdout",
     "output_type": "stream",
     "text": [
      "Dimension of first array: 1\n",
      "Dimension of second array: 2\n",
      "Dimension of third array: 3\n"
     ]
    }
   ],
   "source": [
    "# getting the dimension of the array\n",
    "print(\"Dimension of first array:\",a_1d.ndim)\n",
    "\n",
    "print(\"Dimension of second array:\",a_2d.ndim)\n",
    "\n",
    "print(\"Dimension of third array:\",a_3d.ndim)"
   ]
  },
  {
   "cell_type": "code",
   "execution_count": 34,
   "metadata": {},
   "outputs": [
    {
     "name": "stdout",
     "output_type": "stream",
     "text": [
      "size of first array 3\n",
      "size of second array 12\n",
      "size of third array 24\n"
     ]
    }
   ],
   "source": [
    "#getting the size of array\n",
    "print(\"size of first array\",a_1d.size)\n",
    "\n",
    "print(\"size of second array\",a_2d.size)\n",
    "\n",
    "print(\"size of third array\",a_3d.size)"
   ]
  },
  {
   "cell_type": "raw",
   "metadata": {},
   "source": [
    "Questions 4:\n",
    "How to convert a 1D array into a 2D array? Demonstrate with the help of a code snippet\n",
    "Hint: np.newaxis, np.expand_dims"
   ]
  },
  {
   "cell_type": "code",
   "execution_count": 40,
   "metadata": {},
   "outputs": [
    {
     "name": "stdout",
     "output_type": "stream",
     "text": [
      "[0 1 2 3 4 5 6 7 8 9] \n",
      "\n",
      "[[0 1 2 3 4]\n",
      " [5 6 7 8 9]]\n"
     ]
    }
   ],
   "source": [
    "arr = np.arange(10)\n",
    "print(arr,\"\\n\")\n",
    "# Convert 1D array to a 2D numpy array of 2 rows and 3 columns\n",
    "arr_2d = np.reshape(arr, (2, 5))\n",
    "print(arr_2d)"
   ]
  },
  {
   "cell_type": "raw",
   "metadata": {},
   "source": [
    "Questions 5:\n",
    "Consider two square numpy arrays. Stack them vertically and horizontally.\n",
    "Hint: Use vstack(), hstack()"
   ]
  },
  {
   "cell_type": "code",
   "execution_count": 46,
   "metadata": {},
   "outputs": [
    {
     "name": "stdout",
     "output_type": "stream",
     "text": [
      "Vertical Append: \n",
      " [[1 2 3 4]\n",
      " [5 6 7 8]]\n",
      "\n",
      "\n",
      "Horizontal Stack: \n",
      " [1 2 3 4 5 6 7 8]\n"
     ]
    }
   ],
   "source": [
    "## Vertical Stack\n",
    "import numpy as np\n",
    "a= np.array([1,2,3,4])\n",
    "b= np.array([5,6,7,8])\n",
    "\n",
    "print('Vertical Append: \\n', np.vstack((a, b)))\n",
    "print(\"\\n\")\n",
    "#Horizontal stack\n",
    "print(\"Horizontal Stack: \\n\",np.hstack((a, b)))"
   ]
  },
  {
   "cell_type": "raw",
   "metadata": {},
   "source": [
    "Questions 6:\n",
    "How to get unique items and counts of unique items?"
   ]
  },
  {
   "cell_type": "code",
   "execution_count": 47,
   "metadata": {},
   "outputs": [
    {
     "name": "stdout",
     "output_type": "stream",
     "text": [
      "Original array: [100 101 200 100 210  20 220 310 310  50 400 400]\n",
      "Frequency of unique values of the said array:\n",
      "[[ 20  50 100 101 200 210 220 310 400]\n",
      " [  1   1   2   1   1   1   1   2   2]]\n"
     ]
    }
   ],
   "source": [
    "import numpy as np\n",
    "a = np.array( [100,101,200,100,210,20,220,310, 310,50,400,400] )\n",
    "print(\"Original array:\",a)\n",
    "\n",
    "unique_elements, counts_elements = np.unique(a, return_counts=True)\n",
    "print(\"Frequency of unique values of the said array:\")\n",
    "print(np.asarray((unique_elements, counts_elements)))\n"
   ]
  },
  {
   "cell_type": "code",
   "execution_count": null,
   "metadata": {},
   "outputs": [],
   "source": []
  }
 ],
 "metadata": {
  "kernelspec": {
   "display_name": "Python 3",
   "language": "python",
   "name": "python3"
  },
  "language_info": {
   "codemirror_mode": {
    "name": "ipython",
    "version": 3
   },
   "file_extension": ".py",
   "mimetype": "text/x-python",
   "name": "python",
   "nbconvert_exporter": "python",
   "pygments_lexer": "ipython3",
   "version": "3.7.4"
  }
 },
 "nbformat": 4,
 "nbformat_minor": 2
}
